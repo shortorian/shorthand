{
 "cells": [
  {
   "cell_type": "code",
   "execution_count": 1,
   "metadata": {},
   "outputs": [
    {
     "data": {
      "text/plain": [
       "True"
      ]
     },
     "execution_count": 1,
     "metadata": {},
     "output_type": "execute_result"
    }
   ],
   "source": [
    "import pandas as pd\n",
    "import shorthand as shnd\n",
    "\n",
    "s = shnd.Shorthand(\n",
    "    entry_syntax=\"shorthand/resources/default_entry_syntax.csv\",\n",
    "    link_syntax=\"shorthand/resources/default_link_syntax.csv\",\n",
    "    syntax_case_sensitive=False\n",
    ")\n",
    "'''\n",
    "parsed = s.parse_text(\n",
    "    'shorthand/tests/manual_annotation.shnd',\n",
    "    skiprows=2,\n",
    "    comment_char='#'\n",
    ")\n",
    "'''\n",
    "\n",
    "parsed = s.parse_text(\n",
    "    'shorthand/tests/single_column.shnd',\n",
    "    item_separator='__',\n",
    "    default_entry_prefix='wrk',\n",
    "    space_char='|',\n",
    "    na_string_values='!',\n",
    "    na_node_type='missing',\n",
    "    skiprows=0,\n",
    "    comment_char='#',\n",
    "    drop_na=False\n",
    ")\n",
    "\n",
    "links = parsed.links\n",
    "links.iloc[60:]\n",
    "'''\n",
    "print('       strings', parsed.strings.memory_usage(deep=True).sum()/1000, 'kb')\n",
    "print('         links', parsed.links.memory_usage(deep=True).sum()/1000, 'kb')\n",
    "print('resolved links', parsed.resolve_links().memory_usage(deep=True).sum()/1000, 'kb')\n",
    "'''\n",
    "entry_type = parsed.id_lookup('link_types', 'entry')\n",
    "entry_string_ids = parsed.links.loc[parsed.links['link_type_id'] == entry_type, 'tgt_string_id']\n",
    "\n",
    "parsed.resolve_links().query('src_string.str.contains(\"nasa\")').query('src_node_type != \"shorthand_text\"').query('tgt_node_type != \"shorthand_text\"')\n",
    "\n",
    "parsed.resolve_links().query('link_type == \"cited\"').merge(parsed.links, left_index=True, right_index=True)\n",
    "\n",
    "s = parsed.synthesize_shorthand_entries('wrk', fill_spaces=True)\n",
    "\n",
    "check = pd.Series([\n",
    "    'asmith_bwu__1999__s_bams__101__803__xxx',\n",
    "    'asmith_bwu__1998__s_bams__100__42__yyy',\n",
    "    'bjones__1975__s_jats__90__1__!',\n",
    "    'bwu__1989__t_long|title__!__80__!',\n",
    "    'Some|Author__1989__t_A|Title|With|\\\\#__!__!__!',\n",
    "    'asmith_bwu__2008__s_bams__110__1__zzz'\n",
    "])\n",
    "\n",
    "(check == s).all()"
   ]
  },
  {
   "cell_type": "code",
   "execution_count": 2,
   "metadata": {},
   "outputs": [
    {
     "data": {
      "text/plain": [
       "True"
      ]
     },
     "execution_count": 2,
     "metadata": {},
     "output_type": "execute_result"
    }
   ],
   "source": [
    "import pandas as pd\n",
    "import shorthand as shnd\n",
    "from bibtexparser.bparser import BibTexParser\n",
    "\n",
    "bibtex_parser = BibTexParser(common_strings=True)\n",
    "with open(\"shorthand/tests/bibtex_test_data_short.bib\", encoding='utf8') as f:\n",
    "    bibdatabase = bibtex_parser.parse_file(f)\n",
    "\n",
    "data = pd.DataFrame(bibdatabase.entries)\n",
    "\n",
    "s = shnd.Shorthand(\n",
    "    entry_syntax=\"shorthand/resources/default_bibtex_syntax.csv\",\n",
    "    syntax_case_sensitive=False\n",
    ")\n",
    "\n",
    "parsed = s.parse_items(\n",
    "    data,\n",
    "    space_char='|',\n",
    "    na_string_values='!',\n",
    "    na_node_type='missing'\n",
    ")\n",
    "\n",
    "parsed_identifiers = parsed.strings.query('node_type_id == 8')\n",
    "\n",
    "check = pd.Series([\n",
    "    '10.1038/194638b0',\n",
    "    '10.1175/1520-0493(1962)090<0311:OTOKEB>2.0.CO;2',\n",
    "    '10.3402/tellusa.v14i3.9551',\n",
    "    '10.1175/1520-0477-43.9.451',\n",
    "    '10.3402/tellusa.v14i4.9569',\n",
    "    '10.1007/BF02317953',\n",
    "    '10.1007/BF02247180',\n",
    "    '10.1029/JZ068i011p03345',\n",
    "    '10.1029/JZ068i009p02375',\n",
    "])\n",
    "\n",
    "assert (check == parsed_identifiers['string'].array).all()\n",
    "\n",
    "(check == parsed_identifiers['string'].array).all()"
   ]
  },
  {
   "cell_type": "code",
   "execution_count": null,
   "metadata": {},
   "outputs": [],
   "source": [
    "from bibtexparser.bibdatabase import BibDatabase as _bibtex_db\n",
    "from bibtexparser import dumps as _dump_bibtex_string\n",
    "\n",
    "def btwriter(entry_series):\n",
    "    db = _bibtex_db()\n",
    "    db.entries = [dict(entry_series.dropna().map(str))]\n",
    "    return _dump_bibtex_string(db)\n",
    "\n",
    "print(data.apply(btwriter, axis=1)[9])"
   ]
  },
  {
   "cell_type": "code",
   "execution_count": null,
   "metadata": {},
   "outputs": [],
   "source": []
  }
 ],
 "metadata": {
  "interpreter": {
   "hash": "815b2be54127abaf32a64efea7cd3ff17cdf2bced9eda4b4c37568bb3e1c75a5"
  },
  "kernelspec": {
   "display_name": "Python 3.9.13 64-bit (windows store)",
   "language": "python",
   "name": "python3"
  },
  "language_info": {
   "codemirror_mode": {
    "name": "ipython",
    "version": 3
   },
   "file_extension": ".py",
   "mimetype": "text/x-python",
   "name": "python",
   "nbconvert_exporter": "python",
   "pygments_lexer": "ipython3",
   "version": "3.9.13"
  },
  "orig_nbformat": 4
 },
 "nbformat": 4,
 "nbformat_minor": 2
}
