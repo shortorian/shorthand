{
 "cells": [
  {
   "cell_type": "code",
   "execution_count": 2,
   "metadata": {},
   "outputs": [
    {
     "data": {
      "text/plain": [
       "7          asmith_bwu__1999__s_bams__101__803__xxx\n",
       "12          asmith_bwu__1998__s_bams__100__42__yyy\n",
       "19                  bjones__1975__s_jats__90__1__!\n",
       "23               bwu__1989__t_long title__!__80__!\n",
       "26    Some Author__1989__t_A Title With #__!__!__!\n",
       "46           asmith_bwu__2008__s_bams__110__1__zzz\n",
       "dtype: object"
      ]
     },
     "execution_count": 2,
     "metadata": {},
     "output_type": "execute_result"
    }
   ],
   "source": [
    "import shorthand as shnd\n",
    "s = shnd.Shorthand(\n",
    "    entry_syntax=\"shorthand/resources/default_entry_syntax.csv\",\n",
    "    link_syntax=\"shorthand/resources/default_link_syntax.csv\",\n",
    "    item_separator='__',\n",
    "    default_entry_prefix='wrk',\n",
    "    space_char='|',\n",
    "    na_string_values='!',\n",
    "    na_node_type='missing',\n",
    "    syntax_case_sensitive=False\n",
    ")\n",
    "\n",
    "parsed = s.parse_text(\n",
    "    'shorthand/test_data/manual_annotation.shnd',\n",
    "    skiprows=2,\n",
    "    comment_char='#'\n",
    ")\n",
    "links = parsed.links\n",
    "links.iloc[60:]\n",
    "'''\n",
    "print('       strings', parsed.strings.memory_usage(deep=True).sum()/1000, 'kb')\n",
    "print('         links', parsed.links.memory_usage(deep=True).sum()/1000, 'kb')\n",
    "print('resolved links', parsed.resolve_links().memory_usage(deep=True).sum()/1000, 'kb')\n",
    "'''\n",
    "entry_type = parsed.id_lookup('link_types', 'entry')\n",
    "entry_string_ids = parsed.links.loc[parsed.links['link_type_id'] == entry_type, 'tgt_string_id']\n",
    "\n",
    "parsed.resolve_links().query('src_string.str.contains(\"nasa\")').query('src_node_type != \"shorthand_text\"').query('tgt_node_type != \"shorthand_text\"')\n",
    "\n",
    "parsed.resolve_links().query('link_type == \"entry\"')\n",
    "\n",
    "parsed.synthesize_entries('wrk')"
   ]
  },
  {
   "cell_type": "code",
   "execution_count": 3,
   "metadata": {},
   "outputs": [
    {
     "name": "stdout",
     "output_type": "stream",
     "text": [
      "  item_label item_node_type item_link_type item_prefix_separator item_prefixes\n",
      "0          1          node1          link1                  <NA>          <NA>\n",
      "2          3          node1          link4                  <NA>          <NA>\n",
      "  item_label item_node_type item_link_type item_prefix_separator item_prefixes\n",
      "3          a          node2          link2                  <NA>          <NA>\n",
      "  item_label item_node_type item_link_type item_prefix_separator item_prefixes\n",
      "4          b          node3          link3                  <NA>          <NA>\n"
     ]
    },
    {
     "data": {
      "text/html": [
       "<div>\n",
       "<style scoped>\n",
       "    .dataframe tbody tr th:only-of-type {\n",
       "        vertical-align: middle;\n",
       "    }\n",
       "\n",
       "    .dataframe tbody tr th {\n",
       "        vertical-align: top;\n",
       "    }\n",
       "\n",
       "    .dataframe thead th {\n",
       "        text-align: right;\n",
       "    }\n",
       "</style>\n",
       "<table border=\"1\" class=\"dataframe\">\n",
       "  <thead>\n",
       "    <tr style=\"text-align: right;\">\n",
       "      <th></th>\n",
       "    </tr>\n",
       "  </thead>\n",
       "  <tbody>\n",
       "  </tbody>\n",
       "</table>\n",
       "</div>"
      ],
      "text/plain": [
       "Empty DataFrame\n",
       "Columns: []\n",
       "Index: []"
      ]
     },
     "execution_count": 3,
     "metadata": {},
     "output_type": "execute_result"
    }
   ],
   "source": [
    "import pandas as pd\n",
    "\n",
    "s = pd.DataFrame({\n",
    "    'item_label': ['1', '2', '3', 'a', 'b'],\n",
    "    'item_node_type': ['node1', pd.NA, 'node1', 'node2', 'node3'],\n",
    "    'item_link_type': ['link1', pd.NA, 'link4', 'link2', 'link3'],\n",
    "    'item_prefix_separator': [pd.NA, '_', pd.NA, pd.NA, pd.NA],\n",
    "    'item_prefixes': [pd.NA, 'a b', pd.NA, pd.NA, pd.NA]\n",
    "})\n",
    "\n",
    "where_item_label_is_position = s['item_label'].str.isdigit()\n",
    "unprefixed_items = s.loc[\n",
    "    where_item_label_is_position & s['item_node_type'].notna()\n",
    "]\n",
    "prefixed_items = s.loc[\n",
    "    where_item_label_is_position & s['item_node_type'].isna()\n",
    "]\n",
    "optional_items = s.loc[~s['item_label'].str.isdigit()]\n",
    "\n",
    "s.groupby(by='item_node_type').apply(lambda x: print(x))"
   ]
  },
  {
   "cell_type": "code",
   "execution_count": 84,
   "metadata": {},
   "outputs": [
    {
     "data": {
      "text/html": [
       "<div>\n",
       "<style scoped>\n",
       "    .dataframe tbody tr th:only-of-type {\n",
       "        vertical-align: middle;\n",
       "    }\n",
       "\n",
       "    .dataframe tbody tr th {\n",
       "        vertical-align: top;\n",
       "    }\n",
       "\n",
       "    .dataframe thead th {\n",
       "        text-align: right;\n",
       "    }\n",
       "</style>\n",
       "<table border=\"1\" class=\"dataframe\">\n",
       "  <thead>\n",
       "    <tr style=\"text-align: right;\">\n",
       "      <th></th>\n",
       "      <th>a</th>\n",
       "      <th>b</th>\n",
       "    </tr>\n",
       "  </thead>\n",
       "  <tbody>\n",
       "    <tr>\n",
       "      <th>9</th>\n",
       "      <td>1.0</td>\n",
       "      <td>&lt;NA&gt;</td>\n",
       "    </tr>\n",
       "    <tr>\n",
       "      <th>12</th>\n",
       "      <td>4.0</td>\n",
       "      <td>&lt;NA&gt;</td>\n",
       "    </tr>\n",
       "    <tr>\n",
       "      <th>2</th>\n",
       "      <td>2.0</td>\n",
       "      <td>20</td>\n",
       "    </tr>\n",
       "    <tr>\n",
       "      <th>3</th>\n",
       "      <td>3.0</td>\n",
       "      <td>30</td>\n",
       "    </tr>\n",
       "    <tr>\n",
       "      <th>5</th>\n",
       "      <td>5.0</td>\n",
       "      <td>4</td>\n",
       "    </tr>\n",
       "  </tbody>\n",
       "</table>\n",
       "</div>"
      ],
      "text/plain": [
       "      a     b\n",
       "9   1.0  <NA>\n",
       "12  4.0  <NA>\n",
       "2   2.0    20\n",
       "3   3.0    30\n",
       "5   5.0     4"
      ]
     },
     "execution_count": 84,
     "metadata": {},
     "output_type": "execute_result"
    }
   ],
   "source": [
    "import pandas as pd\n",
    "m = pd.DataFrame({'a':[1,2,3,4,5,5], 'b':[pd.NA, '20', '30', pd.NA, 5, 4]}, index=[9,10,11,12,13,14])\n",
    "\n",
    "result = m.groupby(by='a').apply(lambda x: x.loc[x['b'].astype(pd.Int32Dtype()).idxmin()] if x['b'].notna().any() else None)\n",
    "\n",
    "pd.concat([m.query('b.isna()'), result.dropna()])\n"
   ]
  },
  {
   "cell_type": "code",
   "execution_count": 28,
   "metadata": {},
   "outputs": [
    {
     "data": {
      "text/plain": [
       "573.0"
      ]
     },
     "execution_count": 28,
     "metadata": {},
     "output_type": "execute_result"
    }
   ],
   "source": [
    "strings = pd.DataFrame({\n",
    "    'string': pd._testing.rands_array(500, int(1e6)),\n",
    "    'node_type_id': pd.Series(range(1,6)).sample(int(1e6), replace=True)\n",
    "})\n",
    "strings.memory_usage(deep=True).sum()/1e6"
   ]
  },
  {
   "cell_type": "code",
   "execution_count": 3,
   "metadata": {},
   "outputs": [
    {
     "data": {
      "text/plain": [
       "Series([], dtype: object)"
      ]
     },
     "execution_count": 3,
     "metadata": {},
     "output_type": "execute_result"
    }
   ],
   "source": [
    "import pandas as pd\n",
    "pd.Series(dtype='object')"
   ]
  },
  {
   "cell_type": "code",
   "execution_count": null,
   "metadata": {},
   "outputs": [],
   "source": []
  }
 ],
 "metadata": {
  "interpreter": {
   "hash": "815b2be54127abaf32a64efea7cd3ff17cdf2bced9eda4b4c37568bb3e1c75a5"
  },
  "kernelspec": {
   "display_name": "Python 3.9.13 64-bit (windows store)",
   "language": "python",
   "name": "python3"
  },
  "language_info": {
   "codemirror_mode": {
    "name": "ipython",
    "version": 3
   },
   "file_extension": ".py",
   "mimetype": "text/x-python",
   "name": "python",
   "nbconvert_exporter": "python",
   "pygments_lexer": "ipython3",
   "version": "3.9.13"
  },
  "orig_nbformat": 4
 },
 "nbformat": 4,
 "nbformat_minor": 2
}
