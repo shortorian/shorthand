{
 "cells": [
  {
   "cell_type": "code",
   "execution_count": 1,
   "metadata": {},
   "outputs": [
    {
     "name": "stdout",
     "output_type": "stream",
     "text": [
      "item_position            0     1                 2    3    4    5\n",
      "src_string_id                                                    \n",
      "7               asmith_bwu  1999            s_bams  101  803  xxx\n",
      "12              asmith_bwu  1998            s_bams  100   42  yyy\n",
      "19                  bjones  1975            s_jats   90    1    !\n",
      "23                     bwu  1989      t_long title    !   80    !\n",
      "26             Some Author  1989  t_A Title With #    !    !    !\n",
      "46              asmith_bwu  2008            s_bams  110    1  zzz\n"
     ]
    },
    {
     "data": {
      "text/plain": [
       "0         asmith_bwu__1999__s_bams__101__803__xxx\n",
       "1          asmith_bwu__1998__s_bams__100__42__yyy\n",
       "2                  bjones__1975__s_jats__90__1__!\n",
       "3               bwu__1989__t_long title__!__80__!\n",
       "4    Some Author__1989__t_A Title With #__!__!__!\n",
       "5           asmith_bwu__2008__s_bams__110__1__zzz\n",
       "dtype: object"
      ]
     },
     "execution_count": 1,
     "metadata": {},
     "output_type": "execute_result"
    }
   ],
   "source": [
    "import pandas as pd\n",
    "import shorthand as shnd\n",
    "\n",
    "s = shnd.Shorthand(\n",
    "    entry_syntax=\"shorthand/resources/default_entry_syntax.csv\",\n",
    "    link_syntax=\"shorthand/resources/default_link_syntax.csv\",\n",
    "    item_separator='__',\n",
    "    default_entry_prefix='wrk',\n",
    "    space_char='|',\n",
    "    na_string_values='!',\n",
    "    na_node_type='missing',\n",
    "    syntax_case_sensitive=False\n",
    ")\n",
    "\n",
    "parsed = s.parse_text(\n",
    "    'shorthand/test_data/manual_annotation.shnd',\n",
    "    skiprows=2,\n",
    "    comment_char='#'\n",
    ")\n",
    "links = parsed.links\n",
    "links.iloc[60:]\n",
    "'''\n",
    "print('       strings', parsed.strings.memory_usage(deep=True).sum()/1000, 'kb')\n",
    "print('         links', parsed.links.memory_usage(deep=True).sum()/1000, 'kb')\n",
    "print('resolved links', parsed.resolve_links().memory_usage(deep=True).sum()/1000, 'kb')\n",
    "'''\n",
    "entry_type = parsed.id_lookup('link_types', 'entry')\n",
    "entry_string_ids = parsed.links.loc[parsed.links['link_type_id'] == entry_type, 'tgt_string_id']\n",
    "\n",
    "parsed.resolve_links().query('src_string.str.contains(\"nasa\")').query('src_node_type != \"shorthand_text\"').query('tgt_node_type != \"shorthand_text\"')\n",
    "\n",
    "parsed.resolve_links().query('link_type == \"cited\"').merge(parsed.links, left_index=True, right_index=True)\n",
    "\n",
    "parsed.synthesize_entries(entry_node_type='work')"
   ]
  },
  {
   "cell_type": "code",
   "execution_count": 4,
   "metadata": {},
   "outputs": [
    {
     "data": {
      "text/html": [
       "<div>\n",
       "<style scoped>\n",
       "    .dataframe tbody tr th:only-of-type {\n",
       "        vertical-align: middle;\n",
       "    }\n",
       "\n",
       "    .dataframe tbody tr th {\n",
       "        vertical-align: top;\n",
       "    }\n",
       "\n",
       "    .dataframe thead th {\n",
       "        text-align: right;\n",
       "    }\n",
       "</style>\n",
       "<table border=\"1\" class=\"dataframe\">\n",
       "  <thead>\n",
       "    <tr style=\"text-align: right;\">\n",
       "      <th></th>\n",
       "      <th>0</th>\n",
       "      <th>1</th>\n",
       "    </tr>\n",
       "  </thead>\n",
       "  <tbody>\n",
       "    <tr>\n",
       "      <th>0</th>\n",
       "      <td>1</td>\n",
       "      <td>a</td>\n",
       "    </tr>\n",
       "    <tr>\n",
       "      <th>1</th>\n",
       "      <td>2</td>\n",
       "      <td>b</td>\n",
       "    </tr>\n",
       "    <tr>\n",
       "      <th>2</th>\n",
       "      <td>3</td>\n",
       "      <td>c</td>\n",
       "    </tr>\n",
       "  </tbody>\n",
       "</table>\n",
       "</div>"
      ],
      "text/plain": [
       "   0  1\n",
       "0  1  a\n",
       "1  2  b\n",
       "2  3  c"
      ]
     },
     "execution_count": 4,
     "metadata": {},
     "output_type": "execute_result"
    }
   ],
   "source": [
    "pd.concat([pd.Series([1,2,3]), pd.Series(['a','b','c'])], axis='columns', ignore_index=True)"
   ]
  },
  {
   "cell_type": "code",
   "execution_count": 9,
   "metadata": {},
   "outputs": [
    {
     "data": {
      "text/html": [
       "<div>\n",
       "<style scoped>\n",
       "    .dataframe tbody tr th:only-of-type {\n",
       "        vertical-align: middle;\n",
       "    }\n",
       "\n",
       "    .dataframe tbody tr th {\n",
       "        vertical-align: top;\n",
       "    }\n",
       "\n",
       "    .dataframe thead th {\n",
       "        text-align: right;\n",
       "    }\n",
       "</style>\n",
       "<table border=\"1\" class=\"dataframe\">\n",
       "  <thead>\n",
       "    <tr style=\"text-align: right;\">\n",
       "      <th></th>\n",
       "      <th>a</th>\n",
       "      <th>b</th>\n",
       "    </tr>\n",
       "  </thead>\n",
       "  <tbody>\n",
       "    <tr>\n",
       "      <th>0</th>\n",
       "      <td>1</td>\n",
       "      <td>1</td>\n",
       "    </tr>\n",
       "    <tr>\n",
       "      <th>1</th>\n",
       "      <td>2</td>\n",
       "      <td>1</td>\n",
       "    </tr>\n",
       "    <tr>\n",
       "      <th>2</th>\n",
       "      <td>2</td>\n",
       "      <td>3</td>\n",
       "    </tr>\n",
       "    <tr>\n",
       "      <th>3</th>\n",
       "      <td>4</td>\n",
       "      <td>4</td>\n",
       "    </tr>\n",
       "  </tbody>\n",
       "</table>\n",
       "</div>"
      ],
      "text/plain": [
       "   a  b\n",
       "0  1  1\n",
       "1  2  1\n",
       "2  2  3\n",
       "3  4  4"
      ]
     },
     "execution_count": 9,
     "metadata": {},
     "output_type": "execute_result"
    }
   ],
   "source": [
    "pd.DataFrame({'a':[1,2,2,4,1], 'b':[1,1,3,4,1]}).drop_duplicates()"
   ]
  },
  {
   "cell_type": "code",
   "execution_count": null,
   "metadata": {},
   "outputs": [],
   "source": []
  }
 ],
 "metadata": {
  "interpreter": {
   "hash": "815b2be54127abaf32a64efea7cd3ff17cdf2bced9eda4b4c37568bb3e1c75a5"
  },
  "kernelspec": {
   "display_name": "Python 3.9.13 64-bit (windows store)",
   "language": "python",
   "name": "python3"
  },
  "language_info": {
   "codemirror_mode": {
    "name": "ipython",
    "version": 3
   },
   "file_extension": ".py",
   "mimetype": "text/x-python",
   "name": "python",
   "nbconvert_exporter": "python",
   "pygments_lexer": "ipython3",
   "version": "3.9.13"
  },
  "orig_nbformat": 4
 },
 "nbformat": 4,
 "nbformat_minor": 2
}
